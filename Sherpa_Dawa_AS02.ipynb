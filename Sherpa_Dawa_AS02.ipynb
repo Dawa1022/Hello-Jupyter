{
  "cells": [
    {
      "cell_type": "markdown",
      "metadata": {
        "id": "view-in-github",
        "colab_type": "text"
      },
      "source": [
        "<a href=\"https://colab.research.google.com/github/Dawa1022/Hello-Jupyter/blob/main/Sherpa_Dawa_AS02.ipynb\" target=\"_parent\"><img src=\"https://colab.research.google.com/assets/colab-badge.svg\" alt=\"Open In Colab\"/></a>"
      ]
    },
    {
      "cell_type": "markdown",
      "source": [
        "This program is calculating the sum of the first n number, for n = 10^5, 10^6, and 10^7, in the array we generate using the following four methods to calculate the sums:\n",
        "\n",
        "\n",
        "1. math.fsum.\n",
        "2. numpy.sum.\n",
        "3. Naive summation\n",
        "4. Compensated summation"
      ],
      "metadata": {
        "id": "sF8EL0be-Bg_"
      }
    },
    {
      "cell_type": "code",
      "execution_count": 3,
      "metadata": {
        "id": "3C74KqjCuhMP"
      },
      "outputs": [],
      "source": [
        "# import libraries\n",
        "\n",
        "import numpy as np\n",
        "import random\n",
        "import math \n",
        "import time"
      ]
    },
    {
      "cell_type": "code",
      "execution_count": 4,
      "metadata": {
        "id": "mpCIZ6g3uhMR"
      },
      "outputs": [],
      "source": [
        "# generate array of numbers\n",
        "id = 23718952         # used an id number here.\n",
        "random.seed(id)\n",
        "id10 = id/10**10"
      ]
    },
    {
      "cell_type": "code",
      "execution_count": 5,
      "metadata": {
        "id": "TF1n7B4AuhMR",
        "outputId": "4412eb30-7c14-4f32-deaf-0355fd7e2e9e",
        "colab": {
          "base_uri": "https://localhost:8080/"
        }
      },
      "outputs": [
        {
          "output_type": "stream",
          "name": "stdout",
          "text": [
            "Time taken to calculate Math.fsum for n = 10^5:  0.007704496383666992\n",
            "Math.fsum for n = 10^5:  100371.64184169735\n",
            "Absolute error :  0.0\n",
            "Relative error :  0.0\n"
          ]
        }
      ],
      "source": [
        "# For this assignment we are assuming that math.fsum gets us the exact results for sum \n",
        "# inorder to calculate the Absoulute and Relative errors\n",
        "\n",
        "nexp_5 = 5\n",
        "nsums_5 = 10**nexp_5\n",
        "x = np.zeros(nsums_5)\n",
        "\n",
        "for i in range(nsums_5):\n",
        "    x[i] = random.uniform(0.,2.) + id10\n",
        "\n",
        "start_time = time.time()\n",
        "fsum_5  = math.fsum(x)\n",
        "end_time = time.time()\n",
        "\n",
        "print (\"Time taken to calculate Math.fsum for n = 10^5: \", end_time-start_time)\n",
        "print(\"Math.fsum for n = 10^5: \", fsum_5)\n",
        "print(\"Absolute error : \", abs(fsum_5-fsum_5))\n",
        "print(\"Relative error : \", abs(fsum_5-fsum_5)/fsum_5)\n"
      ]
    },
    {
      "cell_type": "code",
      "execution_count": 6,
      "metadata": {
        "id": "9cZpKvM6uhMS",
        "outputId": "5b4e8ca6-d475-4489-8676-4af21df2182f",
        "colab": {
          "base_uri": "https://localhost:8080/"
        }
      },
      "outputs": [
        {
          "output_type": "stream",
          "name": "stdout",
          "text": [
            "Time taken to calculate numpy.sum for n = 10^5:  0.0009264945983886719\n",
            "numpy.sum for n = 10^5:  100371.64184169733\n",
            "Absolute error :  1.4551915228366852e-11\n",
            "Relative error :  1.4498034466067245e-16\n"
          ]
        }
      ],
      "source": [
        "start_time = time.time()\n",
        "np_sum_5  = np.sum(x)\n",
        "end_time = time.time()\n",
        "print (\"Time taken to calculate numpy.sum for n = 10^5: \", end_time-start_time)\n",
        "print(\"numpy.sum for n = 10^5: \", np_sum_5)\n",
        "print(\"Absolute error : \", abs(np_sum_5-fsum_5))\n",
        "print(\"Relative error : \", abs(np_sum_5-fsum_5)/fsum_5)"
      ]
    },
    {
      "cell_type": "code",
      "execution_count": 7,
      "metadata": {
        "id": "PvfnVxR-uhMS",
        "outputId": "4f2b3d1a-a515-4bb1-9b2e-99ad7b3eaf9a",
        "colab": {
          "base_uri": "https://localhost:8080/"
        }
      },
      "outputs": [
        {
          "output_type": "stream",
          "name": "stdout",
          "text": [
            "Time taken to calculate naive sum for n = 10^5:  0.030792713165283203\n",
            "Naive sum for n = 10^5:  100370.2862472777\n",
            "Absolute error :  1.3555944196414202\n",
            "Relative error :  1.3505751174016029e-05\n"
          ]
        }
      ],
      "source": [
        "start_time = time.time()\n",
        "naive_5 = 0\n",
        "for i in range(len(x)-1):\n",
        "    naive_5 += x[i] \n",
        "end_time = time.time()\n",
        "print (\"Time taken to calculate naive sum for n = 10^5: \", end_time-start_time)\n",
        "print(\"Naive sum for n = 10^5: \", naive_5)\n",
        "print(\"Absolute error : \", abs(naive_5-fsum_5))\n",
        "print(\"Relative error : \", abs(naive_5-fsum_5)/fsum_5)"
      ]
    },
    {
      "cell_type": "code",
      "execution_count": 8,
      "metadata": {
        "id": "J3VXJCLVuhMS",
        "outputId": "a2750870-899d-405b-ca1e-0d744d535240",
        "colab": {
          "base_uri": "https://localhost:8080/"
        }
      },
      "outputs": [
        {
          "output_type": "stream",
          "name": "stdout",
          "text": [
            "Time taken to calculate Compensated sum for n = 10^5:  0.06030726432800293\n",
            "Compensated sum for n = 10^5:  100370.28624727744\n",
            "Absolute error :  1.3555944199033547\n",
            "Relative error :  1.3505751176625675e-05\n"
          ]
        }
      ],
      "source": [
        "start_time = time.time()\n",
        "\n",
        "comp_5 = 0\n",
        "e_5 = 0\n",
        "for i in range(len(x)-1):\n",
        "    temp_5 = comp_5\n",
        "    j = x[i] + e_5\n",
        "    comp_5 = temp_5+j\n",
        "    e_5 = (temp_5-comp_5)+j \n",
        "comp_5 += e_5\n",
        "\n",
        "end_time = time.time()\n",
        "print (\"Time taken to calculate Compensated sum for n = 10^5: \", end_time-start_time)\n",
        "print(\"Compensated sum for n = 10^5: \", comp_5)\n",
        "print(\"Absolute error : \", abs(comp_5-fsum_5))\n",
        "print(\"Relative error : \", abs(comp_5-fsum_5)/fsum_5)"
      ]
    },
    {
      "cell_type": "markdown",
      "metadata": {
        "id": "6N_nIdwXuhMT"
      },
      "source": [
        "***\n",
        "***\n",
        "### Comparing the accuracies and timing for n = 10^5:\n",
        "\n",
        "Assuming that math.fsum gets us the exact results for sum, we can see that math.fsum and numpy.sum gives us the most accurate results, with relative and absolute error of 0.\n",
        "We can also see that naive sum and compensated sum both have almost the same absolute and relative errors.\n",
        "\n",
        "In terms of timing we can see that Compensated sum takes the longest time to finish and numpy.sum is the fastes to finish."
      ]
    },
    {
      "cell_type": "code",
      "execution_count": 9,
      "metadata": {
        "id": "dDsStivzuhMU",
        "outputId": "6f5b57ba-05dd-4b85-cda4-eba468aac72d",
        "colab": {
          "base_uri": "https://localhost:8080/"
        }
      },
      "outputs": [
        {
          "output_type": "stream",
          "name": "stdout",
          "text": [
            "Time taken to calculate Math.fsum for n = 10^6:  0.07987356185913086\n",
            "Math.fsum for n = 10^6:  1001205.376595938\n",
            "Absolute error :  0.0\n",
            "Relative error :  0.0\n"
          ]
        }
      ],
      "source": [
        "nexp_6 = 6\n",
        "nsums_6 = 10**nexp_6\n",
        "y = np.zeros(nsums_6)\n",
        "\n",
        "for i in range(nsums_6):\n",
        "    y[i] = random.uniform(0.,2.) + id10\n",
        "\n",
        "start_time = time.time()\n",
        "fsum_6  = math.fsum(y)\n",
        "end_time = time.time()\n",
        "print (\"Time taken to calculate Math.fsum for n = 10^6: \", end_time-start_time)\n",
        "print(\"Math.fsum for n = 10^6: \", fsum_6)\n",
        "print(\"Absolute error : \", abs(fsum_6-fsum_6))\n",
        "print(\"Relative error : \", abs(fsum_6-fsum_6)/fsum_6)\n"
      ]
    },
    {
      "cell_type": "code",
      "execution_count": 10,
      "metadata": {
        "id": "mxy3zF1wuhMU",
        "outputId": "f99eb3ee-f262-4655-c5c6-3b4e070fe7ad",
        "colab": {
          "base_uri": "https://localhost:8080/"
        }
      },
      "outputs": [
        {
          "output_type": "stream",
          "name": "stdout",
          "text": [
            "Time taken to calculate numpy.sum for n = 10^6:  0.0012362003326416016\n",
            "numpy.sum for n = 10^6:  1001205.376595938\n",
            "Absolute error :  0.0\n",
            "Relative error :  0.0\n"
          ]
        }
      ],
      "source": [
        "start_time = time.time()\n",
        "np_sum_6  = np.sum(y)\n",
        "end_time = time.time()\n",
        "print (\"Time taken to calculate numpy.sum for n = 10^6: \", end_time-start_time)\n",
        "print(\"numpy.sum for n = 10^6: \", np_sum_6)\n",
        "print(\"Absolute error : \", abs(np_sum_6-fsum_6))\n",
        "print(\"Relative error : \", abs(np_sum_6-fsum_6)/fsum_6)"
      ]
    },
    {
      "cell_type": "code",
      "execution_count": 11,
      "metadata": {
        "id": "Gv_plaFhuhMV",
        "outputId": "1cf77ace-eba4-4f34-f195-ca8cc545eee8",
        "colab": {
          "base_uri": "https://localhost:8080/"
        }
      },
      "outputs": [
        {
          "output_type": "stream",
          "name": "stdout",
          "text": [
            "Time taken to calculate naive sum for n = 10^6:  0.2523975372314453\n",
            "Naive sum for n = 10^6:  1001204.5028383165\n",
            "Absolute error :  0.873757621506229\n",
            "Relative error :  8.727056825013998e-07\n"
          ]
        }
      ],
      "source": [
        "start_time = time.time()\n",
        "naive_6 = 0\n",
        "for i in range(len(y)-1):\n",
        "    naive_6 += y[i] \n",
        "end_time = time.time()\n",
        "print (\"Time taken to calculate naive sum for n = 10^6: \", end_time-start_time)\n",
        "print(\"Naive sum for n = 10^6: \", naive_6)\n",
        "print(\"Absolute error : \", abs(naive_6-fsum_6))\n",
        "print(\"Relative error : \", abs(naive_6-fsum_6)/fsum_6)"
      ]
    },
    {
      "cell_type": "code",
      "execution_count": 12,
      "metadata": {
        "id": "WF3TVLN8uhMV",
        "outputId": "2786970a-3690-48c8-c159-b30226547e0f",
        "colab": {
          "base_uri": "https://localhost:8080/"
        }
      },
      "outputs": [
        {
          "output_type": "stream",
          "name": "stdout",
          "text": [
            "Time taken to calculate Compensated sum for n = 10^6:  0.6180047988891602\n",
            "Compensated sum for n = 10^6:  1001204.5028383213\n",
            "Absolute error :  0.8737576167332008\n",
            "Relative error :  8.727056777341179e-07\n"
          ]
        }
      ],
      "source": [
        "start_time = time.time()\n",
        "\n",
        "comp_6 = 0\n",
        "e_6 = 0\n",
        "for i in range(len(y)-1):\n",
        "    temp_6 = comp_6\n",
        "    j = y[i] + e_6\n",
        "    comp_6 = temp_6+j\n",
        "    e_6 = (temp_6-comp_6)+j \n",
        "comp_6 += e_6\n",
        "\n",
        "end_time = time.time()\n",
        "print (\"Time taken to calculate Compensated sum for n = 10^6: \", end_time-start_time)\n",
        "print(\"Compensated sum for n = 10^6: \", comp_6)\n",
        "print(\"Absolute error : \", abs(comp_6-fsum_6))\n",
        "print(\"Relative error : \", abs(comp_6-fsum_6)/fsum_6)"
      ]
    },
    {
      "cell_type": "markdown",
      "metadata": {
        "id": "sNGSGDrMuhMV"
      },
      "source": [
        "***\n",
        "***\n",
        "### Comparing the accuracies and timing for n = 10^6:\n",
        "\n",
        "Assuming that math.fsum gets us the exact results for sum, we can see that numpy.sum gives us the most accurate results, with the smallest relative and absolute errors.\n",
        "We can also see that naive sum and compensated sum both have almost the same absolute and relative errors.\n",
        "\n",
        "In terms of timing we can see that Compensated sum takes the longest time to finish and numpy.sum is the fastes to finish."
      ]
    },
    {
      "cell_type": "code",
      "execution_count": 13,
      "metadata": {
        "id": "IYXMyAOLuhMV",
        "outputId": "bf0fd7a7-1fab-43e4-d8e9-2edf335f1adf",
        "colab": {
          "base_uri": "https://localhost:8080/"
        }
      },
      "outputs": [
        {
          "output_type": "stream",
          "name": "stdout",
          "text": [
            "Time taken to calculate Math.fsum for n = 10^7:  0.779412031173706\n",
            "Math.fsum for n = 10^7:  10020925.855959198\n",
            "Absolute error :  0.0\n",
            "Relative error :  0.0\n"
          ]
        }
      ],
      "source": [
        "nexp_7 = 7\n",
        "nsums_7 = 10**nexp_7\n",
        "z = np.zeros(nsums_7)\n",
        "\n",
        "for i in range(nsums_7):\n",
        "    z[i] = random.uniform(0.,2.) + id10\n",
        "\n",
        "start_time = time.time()\n",
        "fsum_7  = math.fsum(z)\n",
        "end_time = time.time()\n",
        "print (\"Time taken to calculate Math.fsum for n = 10^7: \", end_time-start_time)\n",
        "print(\"Math.fsum for n = 10^7: \", fsum_7)\n",
        "print(\"Absolute error : \", abs(fsum_7-fsum_7))\n",
        "print(\"Relative error : \", abs(fsum_7-fsum_7)/fsum_7)\n"
      ]
    },
    {
      "cell_type": "code",
      "execution_count": 14,
      "metadata": {
        "id": "IGlIPgO4uhMW",
        "outputId": "ce7dfe64-fe17-487a-a5a6-26b73268ebeb",
        "colab": {
          "base_uri": "https://localhost:8080/"
        }
      },
      "outputs": [
        {
          "output_type": "stream",
          "name": "stdout",
          "text": [
            "Time taken to calculate numpy.sum for n = 10^7:  0.014232873916625977\n",
            "numpy.sum for n = 10^7:  10020925.855959179\n",
            "Absolute error :  1.862645149230957e-08\n",
            "Relative error :  1.8587555441529266e-15\n"
          ]
        }
      ],
      "source": [
        "start_time = time.time()\n",
        "np_sum_7  = np.sum(z)\n",
        "end_time = time.time()\n",
        "print (\"Time taken to calculate numpy.sum for n = 10^7: \", end_time-start_time)\n",
        "print(\"numpy.sum for n = 10^7: \", np_sum_7)\n",
        "print(\"Absolute error : \", abs(np_sum_7-fsum_7))\n",
        "print(\"Relative error : \", abs(np_sum_7-fsum_7)/fsum_7)"
      ]
    },
    {
      "cell_type": "code",
      "execution_count": 15,
      "metadata": {
        "id": "RT22DkfguhMW",
        "outputId": "54a60562-5188-43d8-9a9d-6364b7c43b97",
        "colab": {
          "base_uri": "https://localhost:8080/"
        }
      },
      "outputs": [
        {
          "output_type": "stream",
          "name": "stdout",
          "text": [
            "Time taken to calculate naive sum for n = 10^7:  2.447606325149536\n",
            "Naive sum for n = 10^7:  10020925.478232441\n",
            "Absolute error :  0.3777267560362816\n",
            "Relative error :  3.7693798104658843e-08\n"
          ]
        }
      ],
      "source": [
        "start_time = time.time()\n",
        "naive_7 = 0\n",
        "for i in range(len(z)-1):\n",
        "    naive_7 += z[i] \n",
        "end_time = time.time()\n",
        "print (\"Time taken to calculate naive sum for n = 10^7: \", end_time-start_time)\n",
        "print(\"Naive sum for n = 10^7: \", naive_7)\n",
        "print(\"Absolute error : \", abs(naive_7-fsum_7))\n",
        "print(\"Relative error : \", abs(naive_7-fsum_7)/fsum_7)"
      ]
    },
    {
      "cell_type": "code",
      "execution_count": 16,
      "metadata": {
        "id": "tXHVJIepuhMW",
        "outputId": "ec3d324f-5b6c-4751-c155-5dc060d19a2d",
        "colab": {
          "base_uri": "https://localhost:8080/"
        }
      },
      "outputs": [
        {
          "output_type": "stream",
          "name": "stdout",
          "text": [
            "Time taken to calculate Compensated sum for n = 10^7:  5.8607025146484375\n",
            "Compensated sum for n = 10^7:  10020925.478232287\n",
            "Absolute error :  0.37772691063582897\n",
            "Relative error :  3.7693813532329856e-08\n"
          ]
        }
      ],
      "source": [
        "start_time = time.time()\n",
        "\n",
        "comp_7 = 0\n",
        "e_7 = 0\n",
        "for i in range(len(z)-1):\n",
        "    temp = comp_7\n",
        "    j = z[i] + e_7\n",
        "    comp_7 = temp+j\n",
        "    e_7 = (temp-comp_7)+j \n",
        "comp_7 += e_7\n",
        "\n",
        "end_time = time.time()\n",
        "print (\"Time taken to calculate Compensated sum for n = 10^7: \", end_time-start_time)\n",
        "print(\"Compensated sum for n = 10^7: \", comp_7)\n",
        "print(\"Absolute error : \", abs(comp_7-fsum_7))\n",
        "print(\"Relative error : \", abs(comp_7-fsum_7)/fsum_7)"
      ]
    },
    {
      "cell_type": "markdown",
      "metadata": {
        "id": "DZMgzXsjuhMW"
      },
      "source": [
        "***\n",
        "***\n",
        "### Comparing the accuracies and timing for n = 10^7:\n",
        "\n",
        "Assuming that math.fsum gets us the exact results for sum, we can see that numpy.sum gives us the most accurate results, with the smallest relative and absolute errors.\n",
        "We can also see that naive sum and compensated sum both have almost the same absolute and relative errors.\n",
        "\n",
        "In terms of timing we can see that Compensated sum takes the longest time to finish and numpy.sum is the fastes to finish."
      ]
    }
  ],
  "metadata": {
    "anaconda-cloud": {},
    "kernelspec": {
      "display_name": "Python 3 (ipykernel)",
      "language": "python",
      "name": "python3"
    },
    "language_info": {
      "codemirror_mode": {
        "name": "ipython",
        "version": 3
      },
      "file_extension": ".py",
      "mimetype": "text/x-python",
      "name": "python",
      "nbconvert_exporter": "python",
      "pygments_lexer": "ipython3",
      "version": "3.9.7"
    },
    "colab": {
      "name": "Sherpa_Dawa_AS02.ipynb",
      "provenance": [],
      "include_colab_link": true
    }
  },
  "nbformat": 4,
  "nbformat_minor": 0
}