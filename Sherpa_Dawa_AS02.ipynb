{
 "cells": [
  {
   "cell_type": "code",
   "execution_count": 209,
   "metadata": {},
   "outputs": [],
   "source": [
    "# import libraries\n",
    "\n",
    "import numpy as np\n",
    "import random\n",
    "import math \n",
    "import time"
   ]
  },
  {
   "cell_type": "code",
   "execution_count": 210,
   "metadata": {},
   "outputs": [],
   "source": [
    "# generate array of numbers\n",
    "id = 23718941         # use your student id number here.\n",
    "random.seed(id)\n",
    "id10 = id/10**10"
   ]
  },
  {
   "cell_type": "code",
   "execution_count": 211,
   "metadata": {},
   "outputs": [
    {
     "name": "stdout",
     "output_type": "stream",
     "text": [
      "Time taken to calculate Math.fsum for n = 10^5:  0.007842779159545898\n",
      "Math.fsum for n = 10^5:  100261.35458989414\n",
      "Absolute error :  0.0\n",
      "Relative error :  0.0\n"
     ]
    }
   ],
   "source": [
    "# For this assignment we are assuming that math.fsum gets us the exact results for sum \n",
    "# inorder to calculate the Absoulute and Relative errors\n",
    "\n",
    "nexp_5 = 5\n",
    "nsums_5 = 10**nexp_5\n",
    "x = np.zeros(nsums_5)\n",
    "\n",
    "for i in range(nsums_5):\n",
    "    x[i] = random.uniform(0.,2.) + id10\n",
    "\n",
    "start_time = time.time()\n",
    "fsum_5  = math.fsum(x)\n",
    "end_time = time.time()\n",
    "\n",
    "print (\"Time taken to calculate Math.fsum for n = 10^5: \", end_time-start_time)\n",
    "print(\"Math.fsum for n = 10^5: \", fsum_5)\n",
    "print(\"Absolute error : \", abs(fsum_5-fsum_5))\n",
    "print(\"Relative error : \", abs(fsum_5-fsum_5)/fsum_5)\n"
   ]
  },
  {
   "cell_type": "code",
   "execution_count": 212,
   "metadata": {},
   "outputs": [
    {
     "name": "stdout",
     "output_type": "stream",
     "text": [
      "Time taken to calculate numpy.sum for n = 10^5:  0.00010395050048828125\n",
      "numpy.sum for n = 10^5:  100261.35458989414\n",
      "Absolute error :  0.0\n",
      "Relative error :  0.0\n"
     ]
    }
   ],
   "source": [
    "start_time = time.time()\n",
    "np_sum_5  = np.sum(x)\n",
    "end_time = time.time()\n",
    "print (\"Time taken to calculate numpy.sum for n = 10^5: \", end_time-start_time)\n",
    "print(\"numpy.sum for n = 10^5: \", np_sum_5)\n",
    "print(\"Absolute error : \", abs(np_sum_5-fsum_5))\n",
    "print(\"Relative error : \", abs(np_sum_5-fsum_5)/fsum_5)"
   ]
  },
  {
   "cell_type": "code",
   "execution_count": 213,
   "metadata": {},
   "outputs": [
    {
     "name": "stdout",
     "output_type": "stream",
     "text": [
      "Time taken to calculate naive sum for n = 10^5:  0.018064022064208984\n",
      "Naive sum for n = 10^5:  100260.58952047117\n",
      "Absolute error :  0.765069422966917\n",
      "Relative error :  7.630750911917485e-06\n"
     ]
    }
   ],
   "source": [
    "start_time = time.time()\n",
    "naive_5 = 0\n",
    "for i in range(len(x)-1):\n",
    "    naive_5 += x[i] \n",
    "end_time = time.time()\n",
    "print (\"Time taken to calculate naive sum for n = 10^5: \", end_time-start_time)\n",
    "print(\"Naive sum for n = 10^5: \", naive_5)\n",
    "print(\"Absolute error : \", abs(naive_5-fsum_5))\n",
    "print(\"Relative error : \", abs(naive_5-fsum_5)/fsum_5)"
   ]
  },
  {
   "cell_type": "code",
   "execution_count": 214,
   "metadata": {},
   "outputs": [
    {
     "name": "stdout",
     "output_type": "stream",
     "text": [
      "Time taken to calculate Compensated sum for n = 10^5:  0.03931903839111328\n",
      "Compensated sum for n = 10^5:  100260.58952047168\n",
      "Absolute error :  0.7650694224576\n",
      "Relative error :  7.630750906837591e-06\n"
     ]
    }
   ],
   "source": [
    "start_time = time.time()\n",
    "\n",
    "comp_5 = 0\n",
    "e_5 = 0\n",
    "for i in range(len(x)-1):\n",
    "    temp_5 = comp_5\n",
    "    j = x[i] + e_5\n",
    "    comp_5 = temp_5+j\n",
    "    e_5 = (temp_5-comp_5)+j \n",
    "comp_5 += e_5\n",
    "\n",
    "end_time = time.time()\n",
    "print (\"Time taken to calculate Compensated sum for n = 10^5: \", end_time-start_time)\n",
    "print(\"Compensated sum for n = 10^5: \", comp_5)\n",
    "print(\"Absolute error : \", abs(comp_5-fsum_5))\n",
    "print(\"Relative error : \", abs(comp_5-fsum_5)/fsum_5)"
   ]
  },
  {
   "cell_type": "markdown",
   "metadata": {},
   "source": [
    "***\n",
    "***\n",
    "### Comparing the accuracies and timing for n = 10^5:\n",
    "\n",
    "Assuming that math.fsum gets us the exact results for sum, we can see that math.fsum and numpy.sum gives us the most accurate results, with relative and absolute error of 0.\n",
    "We can also see that naive sum and compensated sum both have almost the same absolute and relative errors.\n",
    "\n",
    "In terms of timing we can see that Compensated sum takes the longest time to finish and numpy.sum is the fastes to finish."
   ]
  },
  {
   "cell_type": "code",
   "execution_count": 215,
   "metadata": {},
   "outputs": [
    {
     "name": "stdout",
     "output_type": "stream",
     "text": [
      "Time taken to calculate Math.fsum for n = 10^6:  0.07611608505249023\n",
      "Math.fsum for n = 10^6:  1002245.5180405993\n",
      "Absolute error :  0.0\n",
      "Relative error :  0.0\n"
     ]
    }
   ],
   "source": [
    "nexp_6 = 6\n",
    "nsums_6 = 10**nexp_6\n",
    "y = np.zeros(nsums_6)\n",
    "\n",
    "for i in range(nsums_6):\n",
    "    y[i] = random.uniform(0.,2.) + id10\n",
    "\n",
    "start_time = time.time()\n",
    "fsum_6  = math.fsum(y)\n",
    "end_time = time.time()\n",
    "print (\"Time taken to calculate Math.fsum for n = 10^6: \", end_time-start_time)\n",
    "print(\"Math.fsum for n = 10^6: \", fsum_6)\n",
    "print(\"Absolute error : \", abs(fsum_6-fsum_6))\n",
    "print(\"Relative error : \", abs(fsum_6-fsum_6)/fsum_6)\n"
   ]
  },
  {
   "cell_type": "code",
   "execution_count": 216,
   "metadata": {},
   "outputs": [
    {
     "name": "stdout",
     "output_type": "stream",
     "text": [
      "Time taken to calculate numpy.sum for n = 10^6:  0.00043892860412597656\n",
      "numpy.sum for n = 10^6:  1002245.5180405986\n",
      "Absolute error :  6.984919309616089e-10\n",
      "Relative error :  6.969269688800086e-16\n"
     ]
    }
   ],
   "source": [
    "start_time = time.time()\n",
    "np_sum_6  = np.sum(y)\n",
    "end_time = time.time()\n",
    "print (\"Time taken to calculate numpy.sum for n = 10^6: \", end_time-start_time)\n",
    "print(\"numpy.sum for n = 10^6: \", np_sum_6)\n",
    "print(\"Absolute error : \", abs(np_sum_6-fsum_6))\n",
    "print(\"Relative error : \", abs(np_sum_6-fsum_6)/fsum_6)"
   ]
  },
  {
   "cell_type": "code",
   "execution_count": 217,
   "metadata": {},
   "outputs": [
    {
     "name": "stdout",
     "output_type": "stream",
     "text": [
      "Time taken to calculate naive sum for n = 10^6:  0.16716718673706055\n",
      "Naive sum for n = 10^6:  1002244.9697122116\n",
      "Absolute error :  0.548328387667425\n",
      "Relative error :  5.470998650504448e-07\n"
     ]
    }
   ],
   "source": [
    "start_time = time.time()\n",
    "naive_6 = 0\n",
    "for i in range(len(y)-1):\n",
    "    naive_6 += y[i] \n",
    "end_time = time.time()\n",
    "print (\"Time taken to calculate naive sum for n = 10^6: \", end_time-start_time)\n",
    "print(\"Naive sum for n = 10^6: \", naive_6)\n",
    "print(\"Absolute error : \", abs(naive_6-fsum_6))\n",
    "print(\"Relative error : \", abs(naive_6-fsum_6)/fsum_6)"
   ]
  },
  {
   "cell_type": "code",
   "execution_count": 218,
   "metadata": {},
   "outputs": [
    {
     "name": "stdout",
     "output_type": "stream",
     "text": [
      "Time taken to calculate Compensated sum for n = 10^6:  0.38730287551879883\n",
      "Compensated sum for n = 10^6:  1002244.969712167\n",
      "Absolute error :  0.5483284322544932\n",
      "Relative error :  5.470999095376163e-07\n"
     ]
    }
   ],
   "source": [
    "start_time = time.time()\n",
    "\n",
    "comp_6 = 0\n",
    "e_6 = 0\n",
    "for i in range(len(y)-1):\n",
    "    temp_6 = comp_6\n",
    "    j = y[i] + e_6\n",
    "    comp_6 = temp_6+j\n",
    "    e_6 = (temp_6-comp_6)+j \n",
    "comp_6 += e_6\n",
    "\n",
    "end_time = time.time()\n",
    "print (\"Time taken to calculate Compensated sum for n = 10^6: \", end_time-start_time)\n",
    "print(\"Compensated sum for n = 10^6: \", comp_6)\n",
    "print(\"Absolute error : \", abs(comp_6-fsum_6))\n",
    "print(\"Relative error : \", abs(comp_6-fsum_6)/fsum_6)"
   ]
  },
  {
   "cell_type": "markdown",
   "metadata": {},
   "source": [
    "***\n",
    "***\n",
    "### Comparing the accuracies and timing for n = 10^6:\n",
    "\n",
    "Assuming that math.fsum gets us the exact results for sum, we can see that numpy.sum gives us the most accurate results, with the smallest relative and absolute errors.\n",
    "We can also see that naive sum and compensated sum both have almost the same absolute and relative errors.\n",
    "\n",
    "In terms of timing we can see that Compensated sum takes the longest time to finish and numpy.sum is the fastes to finish."
   ]
  },
  {
   "cell_type": "code",
   "execution_count": 205,
   "metadata": {},
   "outputs": [
    {
     "name": "stdout",
     "output_type": "stream",
     "text": [
      "Time taken to calculate Math.fsum for n = 10^7:  0.7596390247344971\n",
      "Math.fsum for n = 10^7:  10023875.609561507\n",
      "Absolute error :  0.0\n",
      "Relative error :  0.0\n"
     ]
    }
   ],
   "source": [
    "nexp_7 = 7\n",
    "nsums_7 = 10**nexp_7\n",
    "z = np.zeros(nsums_7)\n",
    "\n",
    "for i in range(nsums_7):\n",
    "    z[i] = random.uniform(0.,2.) + id10\n",
    "\n",
    "start_time = time.time()\n",
    "fsum_7  = math.fsum(z)\n",
    "end_time = time.time()\n",
    "print (\"Time taken to calculate Math.fsum for n = 10^7: \", end_time-start_time)\n",
    "print(\"Math.fsum for n = 10^7: \", fsum_7)\n",
    "print(\"Absolute error : \", abs(fsum_7-fsum_7))\n",
    "print(\"Relative error : \", abs(fsum_7-fsum_7)/fsum_7)\n"
   ]
  },
  {
   "cell_type": "code",
   "execution_count": 206,
   "metadata": {},
   "outputs": [
    {
     "name": "stdout",
     "output_type": "stream",
     "text": [
      "Time taken to calculate numpy.sum for n = 10^7:  0.0023229122161865234\n",
      "numpy.sum for n = 10^7:  10023875.609561514\n",
      "Absolute error :  7.450580596923828e-09\n",
      "Relative error :  7.432834252070046e-16\n"
     ]
    }
   ],
   "source": [
    "start_time = time.time()\n",
    "np_sum_7  = np.sum(z)\n",
    "end_time = time.time()\n",
    "print (\"Time taken to calculate numpy.sum for n = 10^7: \", end_time-start_time)\n",
    "print(\"numpy.sum for n = 10^7: \", np_sum_7)\n",
    "print(\"Absolute error : \", abs(np_sum_7-fsum_7))\n",
    "print(\"Relative error : \", abs(np_sum_7-fsum_7)/fsum_7)"
   ]
  },
  {
   "cell_type": "code",
   "execution_count": 207,
   "metadata": {},
   "outputs": [
    {
     "name": "stdout",
     "output_type": "stream",
     "text": [
      "Time taken to calculate naive sum for n = 10^7:  1.663158655166626\n",
      "Naive sum for n = 10^7:  10023874.30407842\n",
      "Absolute error :  1.3054830860346556\n",
      "Relative error :  1.3023735897015623e-07\n"
     ]
    }
   ],
   "source": [
    "start_time = time.time()\n",
    "naive_7 = 0\n",
    "for i in range(len(z)-1):\n",
    "    naive_7 += z[i] \n",
    "end_time = time.time()\n",
    "print (\"Time taken to calculate naive sum for n = 10^7: \", end_time-start_time)\n",
    "print(\"Naive sum for n = 10^7: \", naive_7)\n",
    "print(\"Absolute error : \", abs(naive_7-fsum_7))\n",
    "print(\"Relative error : \", abs(naive_7-fsum_7)/fsum_7)"
   ]
  },
  {
   "cell_type": "code",
   "execution_count": 208,
   "metadata": {},
   "outputs": [
    {
     "name": "stdout",
     "output_type": "stream",
     "text": [
      "Time taken to calculate Compensated sum for n = 10^7:  3.8868720531463623\n",
      "Compensated sum for n = 10^7:  10023874.30407995\n",
      "Absolute error :  1.305481556802988\n",
      "Relative error :  1.302372064112332e-07\n"
     ]
    }
   ],
   "source": [
    "start_time = time.time()\n",
    "\n",
    "comp_7 = 0\n",
    "e_7 = 0\n",
    "for i in range(len(z)-1):\n",
    "    temp = comp_7\n",
    "    j = z[i] + e_7\n",
    "    comp_7 = temp+j\n",
    "    e_7 = (temp-comp_7)+j \n",
    "comp_7 += e_7\n",
    "\n",
    "end_time = time.time()\n",
    "print (\"Time taken to calculate Compensated sum for n = 10^7: \", end_time-start_time)\n",
    "print(\"Compensated sum for n = 10^7: \", comp_7)\n",
    "print(\"Absolute error : \", abs(comp_7-fsum_7))\n",
    "print(\"Relative error : \", abs(comp_7-fsum_7)/fsum_7)"
   ]
  },
  {
   "cell_type": "markdown",
   "metadata": {},
   "source": [
    "***\n",
    "***\n",
    "### Comparing the accuracies and timing for n = 10^7:\n",
    "\n",
    "Assuming that math.fsum gets us the exact results for sum, we can see that numpy.sum gives us the most accurate results, with the smallest relative and absolute errors.\n",
    "We can also see that naive sum and compensated sum both have almost the same absolute and relative errors.\n",
    "\n",
    "In terms of timing we can see that Compensated sum takes the longest time to finish and numpy.sum is the fastes to finish."
   ]
  }
 ],
 "metadata": {
  "anaconda-cloud": {},
  "kernelspec": {
   "display_name": "Python 3 (ipykernel)",
   "language": "python",
   "name": "python3"
  },
  "language_info": {
   "codemirror_mode": {
    "name": "ipython",
    "version": 3
   },
   "file_extension": ".py",
   "mimetype": "text/x-python",
   "name": "python",
   "nbconvert_exporter": "python",
   "pygments_lexer": "ipython3",
   "version": "3.9.7"
  }
 },
 "nbformat": 4,
 "nbformat_minor": 1
}
